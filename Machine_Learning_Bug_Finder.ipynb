{
  "nbformat": 4,
  "nbformat_minor": 0,
  "metadata": {
    "colab": {
      "name": "montaigne.ipynb",
      "provenance": [],
      "collapsed_sections": [],
      "authorship_tag": "ABX9TyPQNIoUGbnWsYtEdReldNSc",
      "include_colab_link": true
    },
    "kernelspec": {
      "name": "python3",
      "display_name": "Python 3"
    },
    "language_info": {
      "name": "python"
    }
  },
  "cells": [
    {
      "cell_type": "markdown",
      "metadata": {
        "id": "view-in-github",
        "colab_type": "text"
      },
      "source": [
        "<a href=\"https://colab.research.google.com/github/efesefe/ACCOUNT/blob/master/Machine_Learning_Bug_Finder.ipynb\" target=\"_parent\"><img src=\"https://colab.research.google.com/assets/colab-badge.svg\" alt=\"Open In Colab\"/></a>"
      ]
    },
    {
      "cell_type": "code",
      "execution_count": 338,
      "metadata": {
        "id": "70eL5b1iq1m9"
      },
      "outputs": [],
      "source": [
        "import numpy as np\n",
        "import matplotlib.pyplot as plt\n",
        "import pandas as pd\n",
        "import seaborn as sns\n",
        "import glob\n",
        "import os\n",
        "from sklearn.model_selection import cross_val_score"
      ]
    },
    {
      "cell_type": "code",
      "source": [
        "allData = pd.concat(map(pd.read_csv, glob.glob(os.path.join('', \"*.csv\"))))\n",
        "allData.drop('name.1', axis=1, inplace=True)\n",
        "allData.drop('version', axis=1, inplace=True)\n",
        "X = allData.iloc[:, :-1].values\n",
        "y = allData.iloc[:, -1].values\n",
        "from sklearn.compose import ColumnTransformer\n",
        "from sklearn.preprocessing import OneHotEncoder\n",
        "ct = ColumnTransformer(transformers=[('encoder', OneHotEncoder(), [0])], remainder='passthrough')\n",
        "X = pd.DataFrame(ct.fit_transform(X))\n",
        "from sklearn.preprocessing import StandardScaler\n",
        "scaler = StandardScaler()\n",
        "scaler.fit(X)\n",
        "X = pd.DataFrame(scaler.transform(X))"
      ],
      "metadata": {
        "id": "sghiwm1_raMW"
      },
      "execution_count": 339,
      "outputs": []
    },
    {
      "cell_type": "code",
      "source": [
        "from sklearn.neighbors import LocalOutlierFactor\n",
        "clf = LocalOutlierFactor(n_neighbors = 20, contamination = 0.1)\n",
        "clf.fit_predict(X)\n",
        "df_scores = clf.negative_outlier_factor_\n",
        "esik_deger = np.sort(df_scores)[13]\n",
        "aykiri_tf = df_scores > esik_deger\n",
        "baski_deger =  X[df_scores == esik_deger]\n",
        "aykirilar = X[~aykiri_tf]\n",
        "aykirilar.to_records(index = False)\n",
        "res = aykirilar.to_records(index = False)\n",
        "res[:] = baski_deger.to_records(index = False)\n",
        "X[~aykiri_tf] = pd.DataFrame(res, index = X[~aykiri_tf].index)\n",
        "y[y > 0] = 1\n",
        "from sklearn.model_selection import train_test_split\n",
        "X_train, X_test, y_train, y_test = train_test_split(X, y, test_size = 0.2)"
      ],
      "metadata": {
        "id": "ny6g4lGQxESV"
      },
      "execution_count": 340,
      "outputs": []
    },
    {
      "cell_type": "markdown",
      "source": [
        "###İBRAHİM EFE ERER"
      ],
      "metadata": {
        "id": "0hhpyyxpiic5"
      }
    },
    {
      "cell_type": "code",
      "source": [
        "from sklearn.ensemble import RandomForestClassifier\n",
        "rfc = RandomForestClassifier(n_estimators=100)\n",
        "rfc.fit(X_train, y_train)\n",
        "rfc_pred = rfc.predict(X_test)\n",
        "print(accuracy_score(y_test, rfc_pred))\n",
        "print(confusion_matrix(y_test, rfc_pred))\n",
        "print(\"10-Fold Cross validation score\")\n",
        "print(cross_val_score(rfc,X,y,cv=10,scoring='accuracy').mean())"
      ],
      "metadata": {
        "colab": {
          "base_uri": "https://localhost:8080/"
        },
        "id": "T5g3IHhsQ3cB",
        "outputId": "bc718699-0540-4f78-99ac-39f9da08054f"
      },
      "execution_count": 341,
      "outputs": [
        {
          "output_type": "stream",
          "name": "stdout",
          "text": [
            "0.8537378114842904\n",
            "[[544  41]\n",
            " [ 94 244]]\n",
            "10-Fold Cross validation score\n",
            "0.7292231268370097\n"
          ]
        }
      ]
    },
    {
      "cell_type": "code",
      "source": [
        "from sklearn.ensemble import BaggingClassifier\n",
        "from sklearn.svm import SVC\n",
        "clf = BaggingClassifier(base_estimator=SVC(), n_estimators=10, random_state=0).fit(X, y)\n",
        "bagging_result = clf.predict(X_test)\n",
        "print(accuracy_score(y_test, bagging_result))\n",
        "print(confusion_matrix(y_test, bagging_result))\n",
        "print(\"10-Fold Cross validation score\")\n",
        "print(cross_val_score(clf,X,y,cv=10,scoring='accuracy').mean())"
      ],
      "metadata": {
        "colab": {
          "base_uri": "https://localhost:8080/"
        },
        "id": "fxpI8w6zbSRJ",
        "outputId": "125eae72-7fd7-48f6-dc3a-e9f874f882f8"
      },
      "execution_count": 342,
      "outputs": [
        {
          "output_type": "stream",
          "name": "stdout",
          "text": [
            "0.8407367280606717\n",
            "[[552  33]\n",
            " [114 224]]\n",
            "10-Fold Cross validation score\n",
            "0.6932637499882619\n"
          ]
        }
      ]
    },
    {
      "cell_type": "markdown",
      "source": [
        "###CAN ATEŞ:"
      ],
      "metadata": {
        "id": "shVKuhpMfT64"
      }
    },
    {
      "cell_type": "code",
      "source": [
        "from sklearn.naive_bayes import GaussianNB\n",
        "\n",
        "bayes = GaussianNB()\n",
        "bayes.fit(X_train , y_train)\n",
        "\n",
        "y_pred = bayes.predict(X_test)\n",
        "\n",
        "print(accuracy_score(y_test,y_pred))\n",
        "\n",
        "print(\"10-Fold Cross validation score\")\n",
        "print(cross_val_score(bayes,X,y,cv=10,scoring='accuracy').mean())"
      ],
      "metadata": {
        "colab": {
          "base_uri": "https://localhost:8080/"
        },
        "id": "qWdilEhAedUy",
        "outputId": "fedf2c97-2e36-46ca-9039-408bc23e72ff"
      },
      "execution_count": 334,
      "outputs": [
        {
          "output_type": "stream",
          "name": "stdout",
          "text": [
            "0.7919826652221018\n",
            "10-Fold Cross validation score\n",
            "0.6513991792733659\n"
          ]
        }
      ]
    },
    {
      "cell_type": "code",
      "source": [
        "from sklearn.neighbors import KNeighborsClassifier\n",
        "knn = KNeighborsClassifier(n_neighbors=15)\n",
        "knn.fit(X_train, y_train)\n",
        "pred = knn.predict(X_test)\n",
        "print(accuracy_score(y_test, pred))\n",
        "print(confusion_matrix(y_test, pred))\n",
        "print(\"10-Fold Cross validation score\")\n",
        "print(cross_val_score(knn,X,y,cv=10,scoring='accuracy').mean())"
      ],
      "metadata": {
        "colab": {
          "base_uri": "https://localhost:8080/"
        },
        "id": "HpkQ9rOtgtHR",
        "outputId": "38c7db8c-28cb-4dc7-9bb2-baaa986e9961"
      },
      "execution_count": 335,
      "outputs": [
        {
          "output_type": "stream",
          "name": "stdout",
          "text": [
            "0.8309859154929577\n",
            "10-Fold Cross validation score\n",
            "0.6941318984702933\n"
          ]
        }
      ]
    },
    {
      "cell_type": "markdown",
      "source": [
        "##YAZGI KAVUKÇU"
      ],
      "metadata": {
        "id": "D_y6KQ-qh6eb"
      }
    },
    {
      "cell_type": "code",
      "source": [
        "from sklearn.tree import DecisionTreeClassifier\n",
        "regr = DecisionTreeClassifier()\n",
        "regr.fit(X_train, y_train)\n",
        "result = regr.predict(X_test)\n",
        "from sklearn.metrics import accuracy_score, confusion_matrix\n",
        "print(accuracy_score(y_test, result))\n",
        "print(confusion_matrix(y_test, result))\n",
        "print(\"10-Fold Cross validation score\")\n",
        "print(cross_val_score(regr,X,y,cv=10,scoring='accuracy').mean())"
      ],
      "metadata": {
        "colab": {
          "base_uri": "https://localhost:8080/"
        },
        "id": "1JTLWBVAh_Kw",
        "outputId": "d792e05d-a728-4bfe-b2dc-e3dbf78a2fd9"
      },
      "execution_count": 336,
      "outputs": [
        {
          "output_type": "stream",
          "name": "stdout",
          "text": [
            "0.7941495124593716\n",
            "[[494 109]\n",
            " [ 81 239]]\n",
            "10-Fold Cross validation score\n",
            "0.6900193443577392\n"
          ]
        }
      ]
    },
    {
      "cell_type": "code",
      "source": [
        "from sklearn.svm import SVC\n",
        "\n",
        "svc = SVC()\n",
        "\n",
        "svc.fit(X_train , y_train)\n",
        "\n",
        "y_pred = svc.predict(X_test)\n",
        "\n",
        "print(accuracy_score(y_test,y_pred))\n",
        "\n",
        "print(\"10-Fold Cross validation score\")\n",
        "print(cross_val_score(svc,X,y,cv=10,scoring='accuracy').mean())"
      ],
      "metadata": {
        "colab": {
          "base_uri": "https://localhost:8080/"
        },
        "id": "HYEL4em6iI05",
        "outputId": "dac5db61-9fa6-4073-9458-9a6a43147933"
      },
      "execution_count": 337,
      "outputs": [
        {
          "output_type": "stream",
          "name": "stdout",
          "text": [
            "0.8223185265438786\n",
            "[[542  61]\n",
            " [103 217]]\n",
            "10-Fold Cross validation score\n",
            "0.6919580058408692\n"
          ]
        }
      ]
    }
  ]
}